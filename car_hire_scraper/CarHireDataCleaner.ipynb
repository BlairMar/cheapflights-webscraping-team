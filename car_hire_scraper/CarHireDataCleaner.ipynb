{
 "cells": [
  {
   "cell_type": "code",
   "execution_count": null,
   "metadata": {},
   "outputs": [],
   "source": [
    "import os\n",
    "import glob\n",
    "import pandas as pd\n",
    "\n",
    "master_df = pd.DataFrame()\n",
    "\n",
    "for file in os.listdir('/home/faizmeghjee/AiCore Projects/cheapflights-webscraping-team/car_hire_scraper/Car_Hire_Data'):\n",
    "    if file.endswith('.csv'):\n",
    "        master_df = master_df.append(pd.read_csv(file))\n",
    "\n",
    "master_df.to_csv('carhiredata.csv', index=False)"
   ]
  },
  {
   "cell_type": "code",
   "execution_count": null,
   "metadata": {},
   "outputs": [],
   "source": []
  }
 ],
 "metadata": {
  "interpreter": {
   "hash": "fd2454f9d79d261ae6ee18b79657f69d7bb9f489aad6db4956db2e9f2ba0e699"
  },
  "kernelspec": {
   "display_name": "Python 3.9.7 64-bit ('AiCore': conda)",
   "language": "python",
   "name": "python3"
  },
  "language_info": {
   "codemirror_mode": {
    "name": "ipython",
    "version": 3
   },
   "file_extension": ".py",
   "mimetype": "text/x-python",
   "name": "python",
   "nbconvert_exporter": "python",
   "pygments_lexer": "ipython3",
   "version": "3.9.7"
  },
  "orig_nbformat": 4
 },
 "nbformat": 4,
 "nbformat_minor": 2
}

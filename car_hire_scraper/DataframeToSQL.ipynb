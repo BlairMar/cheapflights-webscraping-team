{
 "cells": [
  {
   "cell_type": "code",
   "execution_count": 14,
   "metadata": {},
   "outputs": [
    {
     "name": "stdout",
     "output_type": "stream",
     "text": [
      "             City          Car Type  Number of Passengers  \\\n",
      "0          Murcia          Fiat 500                   4.0   \n",
      "1          Murcia          Fiat 500                   4.0   \n",
      "2          Murcia          Fiat 500                   4.0   \n",
      "3          Murcia          Fiat 500                   4.0   \n",
      "4          Murcia          Fiat 500                   4.0   \n",
      "...           ...               ...                   ...   \n",
      "2625  Los Angeles        Ford Focus                   5.0   \n",
      "2626  Los Angeles        Ford Focus                   5.0   \n",
      "2627  Los Angeles  Volkswagen Jetta                   5.0   \n",
      "2628  Los Angeles  Volkswagen Jetta                   5.0   \n",
      "2629  Los Angeles  Volkswagen Jetta                   5.0   \n",
      "\n",
      "                           Location         Supplier  Total Price  Price  \\\n",
      "0                  Airport terminal     Enjoy Travel           56     14   \n",
      "1                  Airport terminal  HolidayCars.com           59     15   \n",
      "2                  Airport terminal       Rentalcars           65     17   \n",
      "3                  Airport terminal      Booking.com           65     17   \n",
      "4                  Airport terminal            KAYAK           65     17   \n",
      "...                             ...              ...          ...    ...   \n",
      "2625  6728 Reseda Blvd, Los Angeles            Hertz          132     33   \n",
      "2626  6728 Reseda Blvd, Los Angeles     Enjoy Travel          133     34   \n",
      "2627                            BUR            KAYAK          210     53   \n",
      "2628                            BUR         QEEQ.COM          210     53   \n",
      "2629                            BUR         Wisecars          225     57   \n",
      "\n",
      "      Offer Rating  \n",
      "0              4.2  \n",
      "1              7.0  \n",
      "2              5.8  \n",
      "3              5.8  \n",
      "4              5.8  \n",
      "...            ...  \n",
      "2625           6.0  \n",
      "2626           4.0  \n",
      "2627           9.8  \n",
      "2628           9.8  \n",
      "2629           9.2  \n",
      "\n",
      "[2630 rows x 8 columns]\n"
     ]
    }
   ],
   "source": [
    "import psycopg2\n",
    "from sqlalchemy import create_engine\n",
    "import sqlalchemy\n",
    "import pandas as pd\n",
    "\n",
    "DATABASE_TYPE = 'postgresql'\n",
    "DBAPI = 'psycopg2'\n",
    "HOST = 'localhost'\n",
    "USER = 'postgres'\n",
    "PASSWORD = 'postgres'\n",
    "DATABASE = 'Pagila'\n",
    "PORT = 5432\n",
    "\n",
    "df = pd.read_csv('CarHireDataCleaned.csv', index_col=False)\n",
    "print(df)"
   ]
  },
  {
   "cell_type": "code",
   "execution_count": 15,
   "metadata": {},
   "outputs": [],
   "source": [
    "engine = create_engine(f\"{DATABASE_TYPE}+{DBAPI}://{USER}:{PASSWORD}@{HOST}:{PORT}/{DATABASE}\")\n",
    "df.to_sql('car_hire_data', engine, if_exists='replace', index=False)"
   ]
  }
 ],
 "metadata": {
  "interpreter": {
   "hash": "fd2454f9d79d261ae6ee18b79657f69d7bb9f489aad6db4956db2e9f2ba0e699"
  },
  "kernelspec": {
   "display_name": "Python 3.9.7 64-bit ('AiCore': conda)",
   "language": "python",
   "name": "python3"
  },
  "language_info": {
   "codemirror_mode": {
    "name": "ipython",
    "version": 3
   },
   "file_extension": ".py",
   "mimetype": "text/x-python",
   "name": "python",
   "nbconvert_exporter": "python",
   "pygments_lexer": "ipython3",
   "version": "3.9.7"
  },
  "orig_nbformat": 4
 },
 "nbformat": 4,
 "nbformat_minor": 2
}

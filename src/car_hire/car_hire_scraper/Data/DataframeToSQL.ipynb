{
 "cells": [
  {
   "cell_type": "code",
   "execution_count": 15,
   "metadata": {},
   "outputs": [
    {
     "name": "stdout",
     "output_type": "stream",
     "text": [
      "           City              Car Type  Number of Passengers  \\\n",
      "0        Dublin           Toyota Aygo                   4.0   \n",
      "1        Dublin           Toyota Aygo                   4.0   \n",
      "2        Dublin           Toyota Aygo                   4.0   \n",
      "3        Dublin           Toyota Aygo                   4.0   \n",
      "4        Dublin           Toyota Aygo                   4.0   \n",
      "...         ...                   ...                   ...   \n",
      "2530  Las Vegas        Toyota Corolla                   5.0   \n",
      "2531  Las Vegas           Ford Fiesta                   5.0   \n",
      "2532  Las Vegas  Intermediate SUV car                   5.0   \n",
      "2533  Las Vegas  Intermediate SUV car                   5.0   \n",
      "2534  Las Vegas  Intermediate SUV car                   5.0   \n",
      "\n",
      "                                       Location         Supplier  Total Price  \\\n",
      "0                                       Shuttle         VIP Cars           57   \n",
      "1                                       Shuttle     Enjoy Travel           57   \n",
      "2                                       Shuttle  HolidayCars.com           57   \n",
      "3                                       Shuttle  EconomyBookings           60   \n",
      "4                                       Shuttle         Wisecars           62   \n",
      "...                                         ...              ...          ...   \n",
      "2530                                    Shuttle         Wisecars          283   \n",
      "2531  3600 South Las Vegas Boulevard, Las Vegas         Bsp Auto          237   \n",
      "2532              202 Fremont Street, Las Vegas      Booking.com          256   \n",
      "2533              202 Fremont Street, Las Vegas            KAYAK          256   \n",
      "2534              202 Fremont Street, Las Vegas         QEEQ.COM          256   \n",
      "\n",
      "      Price  Offer Rating  \n",
      "0        15           9.2  \n",
      "1        15           6.0  \n",
      "2        15           8.2  \n",
      "3        15           3.8  \n",
      "4        16           9.2  \n",
      "...     ...           ...  \n",
      "2530     71           7.0  \n",
      "2531     60           8.8  \n",
      "2532     64           7.8  \n",
      "2533     64           7.8  \n",
      "2534     64           9.8  \n",
      "\n",
      "[2535 rows x 8 columns]\n"
     ]
    }
   ],
   "source": [
    "import psycopg2\n",
    "import sqlalchemy\n",
    "import pandas as pd\n",
    "from sqlalchemy import create_engine\n",
    "\n",
    "DATABASE_TYPE = 'postgresql'\n",
    "DBAPI = 'psycopg2'\n",
    "HOST = 'localhost'\n",
    "USER = 'postgres'\n",
    "ENDPOINT = 'cheapflights-db.clc2fxqcvl9j.eu-west-2.rds.amazonaws.com'\n",
    "PASSWORD = 'postgres'\n",
    "DATABASE = 'postgres'\n",
    "PORT = 5432\n",
    "\n",
    "df = pd.read_csv('CarHireDataCleaned.csv', index_col=False)\n",
    "print(df)"
   ]
  },
  {
   "cell_type": "code",
   "execution_count": 16,
   "metadata": {},
   "outputs": [
    {
     "data": {
      "text/plain": [
       "<sqlalchemy.engine.base.Connection at 0x7fc7e8b5c340>"
      ]
     },
     "execution_count": 16,
     "metadata": {},
     "output_type": "execute_result"
    }
   ],
   "source": [
    "engine = create_engine(f\"{DATABASE_TYPE}+{DBAPI}://{USER}:{PASSWORD}@{ENDPOINT}:{PORT}/{DATABASE}\")\n",
    "\n",
    "engine.connect()"
   ]
  },
  {
   "cell_type": "code",
   "execution_count": 17,
   "metadata": {},
   "outputs": [],
   "source": [
    "df.to_sql('car_hire', engine, if_exists='replace', index=False)"
   ]
  }
 ],
 "metadata": {
  "interpreter": {
   "hash": "fd2454f9d79d261ae6ee18b79657f69d7bb9f489aad6db4956db2e9f2ba0e699"
  },
  "kernelspec": {
   "display_name": "Python 3.9.7 64-bit ('AiCore': conda)",
   "language": "python",
   "name": "python3"
  },
  "language_info": {
   "codemirror_mode": {
    "name": "ipython",
    "version": 3
   },
   "file_extension": ".py",
   "mimetype": "text/x-python",
   "name": "python",
   "nbconvert_exporter": "python",
   "pygments_lexer": "ipython3",
   "version": "3.8.5"
  },
  "orig_nbformat": 4
 },
 "nbformat": 4,
 "nbformat_minor": 2
}

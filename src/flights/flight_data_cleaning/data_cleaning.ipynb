{
 "cells": [
  {
   "cell_type": "code",
   "execution_count": 1,
   "metadata": {},
   "outputs": [],
   "source": [
    "import sys\n",
    "import os\n",
    "sys.path.append(os.path.abspath('../flight_scraper'))"
   ]
  },
  {
   "cell_type": "code",
   "execution_count": 13,
   "metadata": {},
   "outputs": [],
   "source": [
    "import glob\n",
    "import pandas as pd\n",
    "\n",
    "path = '../flight_scraper/flights_information'\n",
    "all_files = glob.glob(os.path.join(path, '*_flights.csv'))\n",
    "df_for_each = (pd.read_csv(f, sep=',') for f in all_files)\n",
    "merge = pd.concat(df_for_each, ignore_index=True)\n",
    "merge.to_csv('all_flights.csv')\n"
   ]
  },
  {
   "cell_type": "code",
   "execution_count": 18,
   "metadata": {},
   "outputs": [],
   "source": [
    "all_flights = pd.read_csv('all_flights.csv')\n",
    "all_flights = all_flights[all_flights['Origin-Airport'] == 'LHR Heathrow']\n",
    "all_flights.to_csv('all_heathrow_flights.csv')"
   ]
  },
  {
   "cell_type": "code",
   "execution_count": null,
   "metadata": {},
   "outputs": [],
   "source": []
  }
 ],
 "metadata": {
  "interpreter": {
   "hash": "4d8ff01751edcfbad032d8d0992497ecb517552f4e597c11abbbf1cc9ba68053"
  },
  "kernelspec": {
   "display_name": "Python 3.9.7 64-bit ('AICore': conda)",
   "language": "python",
   "name": "python3"
  },
  "language_info": {
   "codemirror_mode": {
    "name": "ipython",
    "version": 3
   },
   "file_extension": ".py",
   "mimetype": "text/x-python",
   "name": "python",
   "nbconvert_exporter": "python",
   "pygments_lexer": "ipython3",
   "version": "3.9.7"
  },
  "orig_nbformat": 4
 },
 "nbformat": 4,
 "nbformat_minor": 2
}

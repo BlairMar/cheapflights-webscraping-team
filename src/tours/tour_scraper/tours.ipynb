{
 "cells": [
  {
   "cell_type": "code",
   "execution_count": 1,
   "metadata": {},
   "outputs": [],
   "source": [
    "import glob\n",
    "import pandas as pd\n",
    "import boto3\n",
    "import re"
   ]
  },
  {
   "cell_type": "code",
   "execution_count": 2,
   "metadata": {},
   "outputs": [
    {
     "name": "stdout",
     "output_type": "stream",
     "text": [
      "23\n"
     ]
    }
   ],
   "source": [
    "path = 'scraper'\n",
    "files = [file for file in glob.glob('../tours_data/*.csv')]\n",
    "print(len(files))"
   ]
  },
  {
   "cell_type": "code",
   "execution_count": 3,
   "metadata": {},
   "outputs": [],
   "source": [
    "li = []\n",
    "for f in files:\n",
    "    # read in csv\n",
    "    temp_df = pd.read_csv(f)\n",
    "    # append df to list\n",
    "    li.append(temp_df)"
   ]
  },
  {
   "cell_type": "code",
   "execution_count": 4,
   "metadata": {},
   "outputs": [],
   "source": [
    "data = pd.concat(li, axis=0)"
   ]
  },
  {
   "cell_type": "code",
   "execution_count": 5,
   "metadata": {},
   "outputs": [
    {
     "data": {
      "text/html": [
       "<div>\n",
       "<style scoped>\n",
       "    .dataframe tbody tr th:only-of-type {\n",
       "        vertical-align: middle;\n",
       "    }\n",
       "\n",
       "    .dataframe tbody tr th {\n",
       "        vertical-align: top;\n",
       "    }\n",
       "\n",
       "    .dataframe thead th {\n",
       "        text-align: right;\n",
       "    }\n",
       "</style>\n",
       "<table border=\"1\" class=\"dataframe\">\n",
       "  <thead>\n",
       "    <tr style=\"text-align: right;\">\n",
       "      <th></th>\n",
       "      <th>Titles</th>\n",
       "      <th>Ratings</th>\n",
       "      <th>Number_Of_Ratings</th>\n",
       "      <th>Prices</th>\n",
       "      <th>Durations</th>\n",
       "      <th>Star_Ratings</th>\n",
       "      <th>Tour_Provider</th>\n",
       "    </tr>\n",
       "  </thead>\n",
       "  <tbody>\n",
       "    <tr>\n",
       "      <th>0</th>\n",
       "      <td>Experience Real Bangkok by Bike</td>\n",
       "      <td>Excellent</td>\n",
       "      <td>1904 ratings</td>\n",
       "      <td>£22</td>\n",
       "      <td>3 hours</td>\n",
       "      <td>5.0</td>\n",
       "      <td>Viator</td>\n",
       "    </tr>\n",
       "    <tr>\n",
       "      <th>1</th>\n",
       "      <td>Private Guide In and Around Bangkok: Custom Tour</td>\n",
       "      <td>Excellent</td>\n",
       "      <td>1431 ratings</td>\n",
       "      <td>£78</td>\n",
       "      <td>8 hours</td>\n",
       "      <td>5.0</td>\n",
       "      <td>Viator</td>\n",
       "    </tr>\n",
       "    <tr>\n",
       "      <th>2</th>\n",
       "      <td>Bangkok by Night: Temples, Markets and Food by...</td>\n",
       "      <td>Excellent</td>\n",
       "      <td>945 ratings</td>\n",
       "      <td>£54</td>\n",
       "      <td>4 hours</td>\n",
       "      <td>5.0</td>\n",
       "      <td>Viator</td>\n",
       "    </tr>\n",
       "    <tr>\n",
       "      <th>3</th>\n",
       "      <td>Flexi Walking Temple Tour: Grand Palace, Wat P...</td>\n",
       "      <td>Excellent</td>\n",
       "      <td>794 ratings</td>\n",
       "      <td>£32</td>\n",
       "      <td>2 hours</td>\n",
       "      <td>5.0</td>\n",
       "      <td>GetYourGuide</td>\n",
       "    </tr>\n",
       "    <tr>\n",
       "      <th>4</th>\n",
       "      <td>Bangkok by Night Tuk Tuk Tour: Markets, Temple...</td>\n",
       "      <td>Excellent</td>\n",
       "      <td>568 ratings</td>\n",
       "      <td>£57</td>\n",
       "      <td>4 hours</td>\n",
       "      <td>5.0</td>\n",
       "      <td>GetYourGuide</td>\n",
       "    </tr>\n",
       "  </tbody>\n",
       "</table>\n",
       "</div>"
      ],
      "text/plain": [
       "                                              Titles    Ratings  \\\n",
       "0                    Experience Real Bangkok by Bike  Excellent   \n",
       "1   Private Guide In and Around Bangkok: Custom Tour  Excellent   \n",
       "2  Bangkok by Night: Temples, Markets and Food by...  Excellent   \n",
       "3  Flexi Walking Temple Tour: Grand Palace, Wat P...  Excellent   \n",
       "4  Bangkok by Night Tuk Tuk Tour: Markets, Temple...  Excellent   \n",
       "\n",
       "  Number_Of_Ratings Prices Durations  Star_Ratings Tour_Provider  \n",
       "0      1904 ratings    £22   3 hours           5.0        Viator  \n",
       "1      1431 ratings    £78   8 hours           5.0        Viator  \n",
       "2       945 ratings    £54   4 hours           5.0        Viator  \n",
       "3       794 ratings    £32   2 hours           5.0  GetYourGuide  \n",
       "4       568 ratings    £57   4 hours           5.0  GetYourGuide  "
      ]
     },
     "execution_count": 5,
     "metadata": {},
     "output_type": "execute_result"
    }
   ],
   "source": [
    "data.head()"
   ]
  },
  {
   "cell_type": "code",
   "execution_count": 132,
   "metadata": {},
   "outputs": [],
   "source": [
    "df = data.copy()"
   ]
  },
  {
   "cell_type": "code",
   "execution_count": 133,
   "metadata": {},
   "outputs": [
    {
     "name": "stdout",
     "output_type": "stream",
     "text": [
      "<class 'pandas.core.frame.DataFrame'>\n",
      "Int64Index: 4143 entries, 0 to 62\n",
      "Data columns (total 7 columns):\n",
      " #   Column             Non-Null Count  Dtype  \n",
      "---  ------             --------------  -----  \n",
      " 0   Titles             4143 non-null   object \n",
      " 1   Ratings            4143 non-null   object \n",
      " 2   Number_Of_Ratings  4143 non-null   object \n",
      " 3   Prices             4143 non-null   object \n",
      " 4   Durations          4143 non-null   object \n",
      " 5   Star_Ratings       1197 non-null   float64\n",
      " 6   Tour_Provider      4143 non-null   object \n",
      "dtypes: float64(1), object(6)\n",
      "memory usage: 388.0+ KB\n"
     ]
    }
   ],
   "source": [
    "df.info()"
   ]
  },
  {
   "cell_type": "markdown",
   "metadata": {},
   "source": [
    "### Clean Data"
   ]
  },
  {
   "cell_type": "code",
   "execution_count": 134,
   "metadata": {},
   "outputs": [],
   "source": [
    "# rename columns\n",
    "df.columns = ['Title', 'Rating', 'Total_ratings',\n",
    "              'Price(£)', 'Duration', 'Star_rating', 'Tour_provider']"
   ]
  },
  {
   "cell_type": "code",
   "execution_count": 135,
   "metadata": {},
   "outputs": [
    {
     "data": {
      "text/html": [
       "<div>\n",
       "<style scoped>\n",
       "    .dataframe tbody tr th:only-of-type {\n",
       "        vertical-align: middle;\n",
       "    }\n",
       "\n",
       "    .dataframe tbody tr th {\n",
       "        vertical-align: top;\n",
       "    }\n",
       "\n",
       "    .dataframe thead th {\n",
       "        text-align: right;\n",
       "    }\n",
       "</style>\n",
       "<table border=\"1\" class=\"dataframe\">\n",
       "  <thead>\n",
       "    <tr style=\"text-align: right;\">\n",
       "      <th></th>\n",
       "      <th>Title</th>\n",
       "      <th>Rating</th>\n",
       "      <th>Total_ratings</th>\n",
       "      <th>Price(£)</th>\n",
       "      <th>Duration</th>\n",
       "      <th>Star_rating</th>\n",
       "      <th>Tour_provider</th>\n",
       "    </tr>\n",
       "  </thead>\n",
       "  <tbody>\n",
       "    <tr>\n",
       "      <th>0</th>\n",
       "      <td>Experience Real Bangkok by Bike</td>\n",
       "      <td>Excellent</td>\n",
       "      <td>1904 ratings</td>\n",
       "      <td>£22</td>\n",
       "      <td>3 hours</td>\n",
       "      <td>5.0</td>\n",
       "      <td>Viator</td>\n",
       "    </tr>\n",
       "    <tr>\n",
       "      <th>1</th>\n",
       "      <td>Private Guide In and Around Bangkok: Custom Tour</td>\n",
       "      <td>Excellent</td>\n",
       "      <td>1431 ratings</td>\n",
       "      <td>£78</td>\n",
       "      <td>8 hours</td>\n",
       "      <td>5.0</td>\n",
       "      <td>Viator</td>\n",
       "    </tr>\n",
       "  </tbody>\n",
       "</table>\n",
       "</div>"
      ],
      "text/plain": [
       "                                              Title     Rating Total_ratings  \\\n",
       "0                   Experience Real Bangkok by Bike  Excellent  1904 ratings   \n",
       "1  Private Guide In and Around Bangkok: Custom Tour  Excellent  1431 ratings   \n",
       "\n",
       "  Price(£) Duration  Star_rating Tour_provider  \n",
       "0      £22  3 hours          5.0        Viator  \n",
       "1      £78  8 hours          5.0        Viator  "
      ]
     },
     "execution_count": 135,
     "metadata": {},
     "output_type": "execute_result"
    }
   ],
   "source": [
    "df.head(2)"
   ]
  },
  {
   "cell_type": "markdown",
   "metadata": {},
   "source": [
    "###### Clean Rating column"
   ]
  },
  {
   "cell_type": "code",
   "execution_count": 136,
   "metadata": {},
   "outputs": [
    {
     "data": {
      "text/plain": [
       "Excellent           2337\n",
       "no data provided    1437\n",
       "Very Good            270\n",
       "Good                  59\n",
       "Poor                  27\n",
       "Fair                  13\n",
       "Name: Rating, dtype: int64"
      ]
     },
     "execution_count": 136,
     "metadata": {},
     "output_type": "execute_result"
    }
   ],
   "source": [
    "df.Rating.value_counts()"
   ]
  },
  {
   "cell_type": "code",
   "execution_count": 137,
   "metadata": {},
   "outputs": [],
   "source": [
    "df.Rating.replace('no data provided', 'NA', inplace=True)"
   ]
  },
  {
   "cell_type": "code",
   "execution_count": 138,
   "metadata": {},
   "outputs": [
    {
     "data": {
      "text/plain": [
       "Excellent    2337\n",
       "NA           1437\n",
       "Very Good     270\n",
       "Good           59\n",
       "Poor           27\n",
       "Fair           13\n",
       "Name: Rating, dtype: int64"
      ]
     },
     "execution_count": 138,
     "metadata": {},
     "output_type": "execute_result"
    }
   ],
   "source": [
    "df.Rating.value_counts()"
   ]
  },
  {
   "cell_type": "markdown",
   "metadata": {},
   "source": [
    "###### Clean Total_ratings"
   ]
  },
  {
   "cell_type": "code",
   "execution_count": null,
   "metadata": {},
   "outputs": [],
   "source": [
    "df['Total_ratings'].unique()"
   ]
  },
  {
   "cell_type": "code",
   "execution_count": 140,
   "metadata": {},
   "outputs": [],
   "source": [
    "# clean number_of_ratings column to include only integers\n",
    "df['Total_ratings'] = df['Total_ratings'].str.replace('ratings', '')"
   ]
  },
  {
   "cell_type": "code",
   "execution_count": 141,
   "metadata": {},
   "outputs": [
    {
     "data": {
      "text/plain": [
       "no data provided    1705\n",
       "1 rating             224\n",
       "2                    119\n",
       "3                    111\n",
       "4                     81\n",
       "                    ... \n",
       "1430                   1\n",
       "1491                   1\n",
       "1556                   1\n",
       "1656                   1\n",
       "61                     1\n",
       "Name: Total_ratings, Length: 392, dtype: int64"
      ]
     },
     "execution_count": 141,
     "metadata": {},
     "output_type": "execute_result"
    }
   ],
   "source": [
    "df.Total_ratings.value_counts()"
   ]
  },
  {
   "cell_type": "code",
   "execution_count": 142,
   "metadata": {},
   "outputs": [],
   "source": [
    "df['Total_ratings'] = df['Total_ratings'].str.replace('rating', '')\n",
    "df['Total_ratings'] = df['Total_ratings'].str.replace('no data provided', 'NA')"
   ]
  },
  {
   "cell_type": "code",
   "execution_count": 143,
   "metadata": {},
   "outputs": [
    {
     "data": {
      "text/plain": [
       "NA       1705\n",
       "1         224\n",
       "2         119\n",
       "3         111\n",
       "4          81\n",
       "         ... \n",
       "1430        1\n",
       "1491        1\n",
       "1556        1\n",
       "1656        1\n",
       "61          1\n",
       "Name: Total_ratings, Length: 392, dtype: int64"
      ]
     },
     "execution_count": 143,
     "metadata": {},
     "output_type": "execute_result"
    }
   ],
   "source": [
    "df.Total_ratings.value_counts()"
   ]
  },
  {
   "cell_type": "markdown",
   "metadata": {},
   "source": [
    "###### Clean Prices"
   ]
  },
  {
   "cell_type": "code",
   "execution_count": 16,
   "metadata": {},
   "outputs": [],
   "source": [
    "# remove £ symbol from prices\n",
    "df['Price(£)'] = df['Price(£)'].str.replace('£', '')"
   ]
  },
  {
   "cell_type": "code",
   "execution_count": 17,
   "metadata": {},
   "outputs": [
    {
     "data": {
      "text/html": [
       "<div>\n",
       "<style scoped>\n",
       "    .dataframe tbody tr th:only-of-type {\n",
       "        vertical-align: middle;\n",
       "    }\n",
       "\n",
       "    .dataframe tbody tr th {\n",
       "        vertical-align: top;\n",
       "    }\n",
       "\n",
       "    .dataframe thead th {\n",
       "        text-align: right;\n",
       "    }\n",
       "</style>\n",
       "<table border=\"1\" class=\"dataframe\">\n",
       "  <thead>\n",
       "    <tr style=\"text-align: right;\">\n",
       "      <th></th>\n",
       "      <th>Title</th>\n",
       "      <th>Rating</th>\n",
       "      <th>Total_ratings</th>\n",
       "      <th>Price(£)</th>\n",
       "      <th>Duration</th>\n",
       "      <th>Star_rating</th>\n",
       "      <th>Tour_provider</th>\n",
       "    </tr>\n",
       "  </thead>\n",
       "  <tbody>\n",
       "    <tr>\n",
       "      <th>0</th>\n",
       "      <td>Experience Real Bangkok by Bike</td>\n",
       "      <td>Excellent</td>\n",
       "      <td>1904</td>\n",
       "      <td>22</td>\n",
       "      <td>3 hours</td>\n",
       "      <td>5.0</td>\n",
       "      <td>Viator</td>\n",
       "    </tr>\n",
       "    <tr>\n",
       "      <th>1</th>\n",
       "      <td>Private Guide In and Around Bangkok: Custom Tour</td>\n",
       "      <td>Excellent</td>\n",
       "      <td>1431</td>\n",
       "      <td>78</td>\n",
       "      <td>8 hours</td>\n",
       "      <td>5.0</td>\n",
       "      <td>Viator</td>\n",
       "    </tr>\n",
       "  </tbody>\n",
       "</table>\n",
       "</div>"
      ],
      "text/plain": [
       "                                              Title     Rating Total_ratings  \\\n",
       "0                   Experience Real Bangkok by Bike  Excellent         1904    \n",
       "1  Private Guide In and Around Bangkok: Custom Tour  Excellent         1431    \n",
       "\n",
       "  Price(£) Duration  Star_rating Tour_provider  \n",
       "0       22  3 hours          5.0        Viator  \n",
       "1       78  8 hours          5.0        Viator  "
      ]
     },
     "execution_count": 17,
     "metadata": {},
     "output_type": "execute_result"
    }
   ],
   "source": [
    "df.head(2)"
   ]
  },
  {
   "cell_type": "markdown",
   "metadata": {},
   "source": [
    "##### Clean Duration"
   ]
  },
  {
   "cell_type": "code",
   "execution_count": null,
   "metadata": {},
   "outputs": [],
   "source": [
    "df.Duration.unique()"
   ]
  },
  {
   "cell_type": "code",
   "execution_count": 204,
   "metadata": {},
   "outputs": [],
   "source": [
    "def get_duration_in_hours(duration):\n",
    "    if 'hours' in duration:\n",
    "        hours = duration.split(' ')[0]\n",
    "        if '-' in hours:\n",
    "            hour_interval = hours.split('-')\n",
    "            lower_boundary = hour_interval[0]\n",
    "            upper_boundary = hour_interval[-1]\n",
    "            avg_hours = (int(lower_boundary) + int(upper_boundary))/2\n",
    "            hours = int(round(avg_hours, 2))\n",
    "        elif '_' not in hours:\n",
    "            hours = int(hours)\n",
    "        return hours\n",
    "    elif 'hour' in duration:\n",
    "        hour_split = duration.split(' ')[0]\n",
    "        hour = int(hour_split)\n",
    "        return hour\n",
    "    elif 'minutes' in duration:\n",
    "        minutes = duration.split(' ')[0]\n",
    "        if '-' in minutes:\n",
    "            minute_interval = minutes.split('-')\n",
    "            lower_boundary = minute_interval[0]\n",
    "            upper_boundary = minute_interval[-1]\n",
    "            avg_minutes = (int(lower_boundary) + int(upper_boundary))/2\n",
    "            minutes = round(int(avg_minutes)/60, 2)\n",
    "        elif '_' not in minutes:\n",
    "            minutes = round(int(minutes)/60, 2)\n",
    "        return minutes \n",
    "    elif 'days' in duration:\n",
    "        days = duration.split(' ')[0]\n",
    "        if '-' in days:\n",
    "            day_interval = days.split('-')\n",
    "            lower_boundary = day_interval[0]\n",
    "            upper_boundary = day_interval[-1]\n",
    "            avg_days = (int(lower_boundary) + int(upper_boundary))/2\n",
    "            days = round(int(avg_days) * 24, 2)  \n",
    "        elif '_' not in days:\n",
    "            days = int(days) * 24\n",
    "        return days\n",
    "    elif 'day' in duration:\n",
    "        day_split = duration.split(' ')[0]\n",
    "        day = int(day_split)\n",
    "        return day\n",
    "    else:\n",
    "        return 'NA'\n",
    "        "
   ]
  },
  {
   "cell_type": "code",
   "execution_count": 205,
   "metadata": {},
   "outputs": [],
   "source": [
    "df['Duration(hours)'] = df['Duration'].map(get_duration_in_hours)"
   ]
  },
  {
   "cell_type": "code",
   "execution_count": 206,
   "metadata": {},
   "outputs": [
    {
     "data": {
      "text/html": [
       "<div>\n",
       "<style scoped>\n",
       "    .dataframe tbody tr th:only-of-type {\n",
       "        vertical-align: middle;\n",
       "    }\n",
       "\n",
       "    .dataframe tbody tr th {\n",
       "        vertical-align: top;\n",
       "    }\n",
       "\n",
       "    .dataframe thead th {\n",
       "        text-align: right;\n",
       "    }\n",
       "</style>\n",
       "<table border=\"1\" class=\"dataframe\">\n",
       "  <thead>\n",
       "    <tr style=\"text-align: right;\">\n",
       "      <th></th>\n",
       "      <th>Title</th>\n",
       "      <th>Rating</th>\n",
       "      <th>Total_ratings</th>\n",
       "      <th>Price(£)</th>\n",
       "      <th>Duration</th>\n",
       "      <th>Star_rating</th>\n",
       "      <th>Tour_provider</th>\n",
       "      <th>Duration(hours)</th>\n",
       "    </tr>\n",
       "  </thead>\n",
       "  <tbody>\n",
       "    <tr>\n",
       "      <th>0</th>\n",
       "      <td>Experience Real Bangkok by Bike</td>\n",
       "      <td>Excellent</td>\n",
       "      <td>1904</td>\n",
       "      <td>£22</td>\n",
       "      <td>3 hours</td>\n",
       "      <td>5.0</td>\n",
       "      <td>Viator</td>\n",
       "      <td>3</td>\n",
       "    </tr>\n",
       "    <tr>\n",
       "      <th>1</th>\n",
       "      <td>Private Guide In and Around Bangkok: Custom Tour</td>\n",
       "      <td>Excellent</td>\n",
       "      <td>1431</td>\n",
       "      <td>£78</td>\n",
       "      <td>8 hours</td>\n",
       "      <td>5.0</td>\n",
       "      <td>Viator</td>\n",
       "      <td>8</td>\n",
       "    </tr>\n",
       "    <tr>\n",
       "      <th>2</th>\n",
       "      <td>Bangkok by Night: Temples, Markets and Food by...</td>\n",
       "      <td>Excellent</td>\n",
       "      <td>945</td>\n",
       "      <td>£54</td>\n",
       "      <td>4 hours</td>\n",
       "      <td>5.0</td>\n",
       "      <td>Viator</td>\n",
       "      <td>4</td>\n",
       "    </tr>\n",
       "    <tr>\n",
       "      <th>3</th>\n",
       "      <td>Flexi Walking Temple Tour: Grand Palace, Wat P...</td>\n",
       "      <td>Excellent</td>\n",
       "      <td>794</td>\n",
       "      <td>£32</td>\n",
       "      <td>2 hours</td>\n",
       "      <td>5.0</td>\n",
       "      <td>GetYourGuide</td>\n",
       "      <td>2</td>\n",
       "    </tr>\n",
       "    <tr>\n",
       "      <th>4</th>\n",
       "      <td>Bangkok by Night Tuk Tuk Tour: Markets, Temple...</td>\n",
       "      <td>Excellent</td>\n",
       "      <td>568</td>\n",
       "      <td>£57</td>\n",
       "      <td>4 hours</td>\n",
       "      <td>5.0</td>\n",
       "      <td>GetYourGuide</td>\n",
       "      <td>4</td>\n",
       "    </tr>\n",
       "  </tbody>\n",
       "</table>\n",
       "</div>"
      ],
      "text/plain": [
       "                                               Title     Rating Total_ratings  \\\n",
       "0                    Experience Real Bangkok by Bike  Excellent         1904    \n",
       "1   Private Guide In and Around Bangkok: Custom Tour  Excellent         1431    \n",
       "2  Bangkok by Night: Temples, Markets and Food by...  Excellent          945    \n",
       "3  Flexi Walking Temple Tour: Grand Palace, Wat P...  Excellent          794    \n",
       "4  Bangkok by Night Tuk Tuk Tour: Markets, Temple...  Excellent          568    \n",
       "\n",
       "  Price(£) Duration  Star_rating Tour_provider Duration(hours)  \n",
       "0      £22  3 hours          5.0        Viator               3  \n",
       "1      £78  8 hours          5.0        Viator               8  \n",
       "2      £54  4 hours          5.0        Viator               4  \n",
       "3      £32  2 hours          5.0  GetYourGuide               2  \n",
       "4      £57  4 hours          5.0  GetYourGuide               4  "
      ]
     },
     "execution_count": 206,
     "metadata": {},
     "output_type": "execute_result"
    }
   ],
   "source": [
    "df.head()"
   ]
  },
  {
   "cell_type": "code",
   "execution_count": 208,
   "metadata": {},
   "outputs": [],
   "source": [
    "df.drop(columns='Duration', inplace=True)"
   ]
  }
 ],
 "metadata": {
  "interpreter": {
   "hash": "a3f4aeaf385be79d3d900d48e6d2b2acb46dc6a7dd2f90faa64c0d96cdbf4e96"
  },
  "kernelspec": {
   "display_name": "Python 3.10.0 64-bit ('venv': venv)",
   "language": "python",
   "name": "python3"
  },
  "language_info": {
   "codemirror_mode": {
    "name": "ipython",
    "version": 3
   },
   "file_extension": ".py",
   "mimetype": "text/x-python",
   "name": "python",
   "nbconvert_exporter": "python",
   "pygments_lexer": "ipython3",
   "version": "3.10.0"
  },
  "orig_nbformat": 4
 },
 "nbformat": 4,
 "nbformat_minor": 2
}
